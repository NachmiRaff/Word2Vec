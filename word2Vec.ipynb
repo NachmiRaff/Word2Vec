{
 "cells": [
  {
   "cell_type": "code",
   "execution_count": 1,
   "id": "30c96c18-a0b1-4be8-9c99-48803141fad2",
   "metadata": {},
   "outputs": [],
   "source": [
    "import numpy as np\n",
    "import re\n",
    "from collections import defaultdict\n",
    "\n",
    "files = ['old/Slate star codex.txt', 'old/2020.txt', 'old/2021.txt', 'old/2022.txt', 'old/2023.txt', 'old/2024.txt', 'old/2025.txt']\n",
    "\n",
    "content = bytes()\n",
    "for file in files:\n",
    "    with open(file, 'rb') as f:\n",
    "        content += f.read();\n",
    "        \n",
    "content = [i for i in re.sub(r'[^a-zA-Z ]+', ' ', content.decode(\"utf-8\")).lower().split(\" \") if i != '']\n",
    "\n",
    "words = defaultdict(int)\n",
    "for s in content:\n",
    "    words[s] += 1"
   ]
  },
  {
   "cell_type": "code",
   "execution_count": 2,
   "id": "325285f9-26bc-4f54-a949-e62071740dfe",
   "metadata": {},
   "outputs": [],
   "source": [
    "content  = [i for i in content if words[i] >=100]"
   ]
  },
  {
   "cell_type": "code",
   "execution_count": 3,
   "id": "8bb40f03-6e8a-47b3-8e2f-21a54a91cb2e",
   "metadata": {},
   "outputs": [],
   "source": [
    "vocab = [i for i, j in words.items() if j>=100]\n",
    "vocab.sort()\n",
    "size = len(vocab)"
   ]
  },
  {
   "cell_type": "code",
   "execution_count": 4,
   "id": "d2a16a73-b38d-4adb-85cc-761c0aecee50",
   "metadata": {},
   "outputs": [
    {
     "name": "stdout",
     "output_type": "stream",
     "text": [
      "content length is 6936885 words long\n",
      "vocab size is 5686\n"
     ]
    }
   ],
   "source": [
    "print('content length is', len(content),'words long\\nvocab size is', size)"
   ]
  },
  {
   "cell_type": "code",
   "execution_count": 5,
   "id": "51d37ef9-f611-4bf0-9ad0-e1f60fd2ecca",
   "metadata": {},
   "outputs": [],
   "source": [
    "word_num = {}\n",
    "for i,w in enumerate(vocab):\n",
    "    word_num[w] = i"
   ]
  },
  {
   "cell_type": "code",
   "execution_count": 6,
   "id": "e48ab4f7-2ece-4442-b1b8-8494c8510790",
   "metadata": {},
   "outputs": [],
   "source": [
    "def get_nVec(x):\n",
    "    v = np.zeros(size)\n",
    "    v[x] = 1\n",
    "    return v"
   ]
  },
  {
   "cell_type": "code",
   "execution_count": 7,
   "id": "58c4b0b9-c6a3-4d94-a844-572500acfb4a",
   "metadata": {},
   "outputs": [],
   "source": [
    "train = []\n",
    "window = 8\n",
    "for i,w in enumerate(content):\n",
    "    if(i>window and i+window<len(content)):\n",
    "        train.append((w,content[i-window//2:i]+content[i+1:i+window//2+1]))"
   ]
  },
  {
   "cell_type": "code",
   "execution_count": 8,
   "id": "b7744faf-c9aa-4b74-bd0b-8d745271d816",
   "metadata": {},
   "outputs": [],
   "source": [
    "def softmax(vector):\n",
    "    e = np.exp(vector - np.max(vector))\n",
    "    return e/np.sum(e)"
   ]
  },
  {
   "cell_type": "code",
   "execution_count": 9,
   "id": "17bd4960-9049-48fe-aa2e-c82d17909111",
   "metadata": {},
   "outputs": [],
   "source": [
    "embedding = 200\n",
    "W1 = np.random.randn(size, embedding)\n",
    "W2 = np.random.randn(embedding, size)"
   ]
  },
  {
   "cell_type": "code",
   "execution_count": null,
   "id": "fcf48154-f8e0-4d22-b248-99a1c4b6ca93",
   "metadata": {},
   "outputs": [
    {
     "name": "stdout",
     "output_type": "stream",
     "text": [
      "main table of contents slate star codex slate star codex slate star codex slate star codex slate star codex slate star codex slate star codex slate star codex slate star codex written by scott alexander table of contents you re probably wondering why i ve called you here today lincoln you cannot serve both god and but you can serve by predicting who will serve god google correlate does not imply google causation of all claims about the problems with medical studies are wrong typical mind and gender identity i liked before it was cool future a defense of logical yes really and discourse third edition the continues links for february people it turns out capitalism is actually a thing s last stand coordination thread launch day pope and change an atheist s guide to decision sleep reactionary philosophy in an enormous planet sized a survive theory of the political spectrum we not with and blood but against powers and we for singapore hitting below the bible good and subjective s last stand game have two sides not just a mere political issue my objections to links for march if attract why is my sister so pretty book review infinite alternate title look at me i read infinite the death of wages is sin my thoughts on the first pages of s after virtue expressed in the form of a slightly comic thank you for doing something between smoking and not smoking a good is its own against lies lies and facebook part of lies lies and facebook part of investment and charity poor folks do for now polyamory is boring emergency whose utilitarianism book review after virtue read history of philosophy backwards virtue ethics not practically useful either poll results and muslim from mars last thoughts on virtue ethics if a be away by the sea europe is the less proving too much things i learned by spending five thousand years in an alternate universe floor employment arguments about male violence prove too much i do not understand rape culture social justice for the highly demanding of rigor search terms that have led people to this blog implicit association tests and product recommendation purity in defense of psych treatment for attempted suicide links for april utilitarianism for engineers part ii yellow journalism in the war on science utility weight results if it s worth doing it s worth doing with made up statistics selection bias and atheist stereotypes laws language and society corruption cities land symbolic in the box economics relationships history religion index posts on in the box part ii links for may ethics against debates can you condition yourself apart from better and medicine and education and and public health and roads and public order what has done for us the wisdom of the going from california with an in my heart the world is flat and attraction abortion and the principle of charity optimism wisdom of the literally and abortion rates la links for june moments of all debates are debates lies lies and facebook part of medical and psychological studies for june arguments from my opponent believes something the virtue of silence can atheists appreciate chesterton the what you d implicitly heard before telling thing a new chapter in the codex social psychology is a the hospital nature is not a slate it s a series of the lottery of i t dead who by very slow decay i myself am a links for july good for you research finds but frequent causes cancer in rats on first looking into s pop science medicine links for august extreme s last stand and log things i don t understand about genetics a list fake fake euthanasia statistics military strikes are an extremely cheap way to help foreigners links for september the life cycle of medical ideas giving and accepting hot dogs scientific the thin blue line that stays prediction is very difficult especially of the past the trend evaluation of all values sleep now by prescription links for the anti reactionary faq some preliminary responses to responses to the faq list of fictional drugs banned by the fda the poor you will always have with you links for november the hour list of reasons why should be forgot lies lies and facebook part of highlights from my notes from a psychiatry conference last week more links for november genetic russian november post a letter i will probably send to the fda the story of is a science fiction story empire forest fire links for december more fictional drugs banned by the fda the and the god emperor a something sort of like left libertarianism pr more links for december statistical among doctors now lower than chance less wrong more ii public awareness campaigns we are all a christmas poem meetup michigan a comment i posted on what would do the spirit of the first amendment you re probably wondering why i ve called you here today due to an by the ancient there is no of blogging denied the ability to begin with a proper to the i will with some relatively boring the name of this blog is slate star codex it is almost an of my own name scott s alexander it is unfortunately missing an n because is hard i have placed an extra n in the image to balance this blog does not have a subject but it has an that might be up as charity over is the natural human tendency to dismiss anything you disagree with as so stupid it doesn t even deserve consideration in fact you are virtuous for not considering it maybe even heroic you re refusing to the evil of by them as legitimate debate partners charity is the ability to that response to assume that if you don t understand how someone could possibly believe something as stupid as they do that this is more likely a failure of understanding on your part than a failure of reason on theirs there are many things charity is not charity is not a attempt to say no one can ever be sure they re right or wrong about anything once you understand the reasons a belief is attractive to someone you can go ahead and reject it as as you want nor is it an obligation to spend time researching every crazy belief that might come your way time is valuable and the less of it you waste on intellectual wild the better it s more like chesterton s fence g k chesterton gave the example of a fence in the middle of nowhere a comes across it thinks i can t think of any reason to have a fence out here it sure was dumb to build one and so takes it down she is then by an angry who was being kept on the other side of the fence chesterton s point is that i can t think of any reason to have a fence out here is the worst reason to remove a fence someone had a reason to put a fence up here and if you can t even imagine what it was it probably means there s something you re missing about the situation and that you re in things you don t understand none of this the who knows that this was historically a cattle farming area but is now abandoned ie the who understands what s going on from taking down the fence as with so with arguments if you have no how someone could believe something and so you decide it s stupid you are much like chesterton s the fence and philosophers like are at high risk of across i would go further and say that even when charity is for it is the most effective way to learn any subject is to try to figure out exactly why a wrong position is wrong and sometimes even a complete disaster of a theory will have a few of wisdom that can t be found anywhere else the rationalist forum less wrong the idea of a stupid position into the intelligent position and then seeing what you can learn from it so this is the of this blog and we as lincoln put it with toward none with charity for all with in the right as god gives us to see the right lincoln it is quite among historians that lincoln attempted to the dead the only remaining question is to what degree he succeeded and to what extent it influenced history the mid s were the of a religious movement centered around the of the dead who usually through or through taking control of the medium s speech at the time it was a big deal drawing in even normally skeptical wikipedia mentions alfred wallace who co discovered evolution with darwin as a confirmed and then there was lincoln is the closest thing to an official voice of skepticism in the united states their past membership includes such as and james of lincoln s they say his wife mary lincoln attended s one even held in the white house s red lincoln upon the session watching with curiosity on another he mary to a s at a private home the president however was a and one has suggested that his limited in was due to a desire to protect his wife what was this in a private home that even agrees lincoln attended no other than the family mentioned in hall s book in fact we have a letter from jack that i have very often seen mr lincoln at my father s house engaged in attending circles for spiritual phenomena and generally lincoln was with him so lincoln very likely attended a at the house what exactly happened during this event here we begin to get into more controversial territory for this i turn to the work of former state historian particularly his article in journal of the state historical society was lincoln really a has sources that to describe lincoln s but he only three of these as credible information about the one of these is a different medium who had been attending this as a rather than as the active a second is s p who later went to the newspapers with his story the third is our old friend dr hall author of the or the secret political history of our civil war showing the of new england history how lincoln came to be president the secret working and of those in power and purpose of the war for four years to be and published in a series of four why was hall considered a remotely credible source because he had in fact spent a lot of the s and other members of dc s community and in fact had even talked with president lincoln about the latter s spiritual experiences a talk describes as a personal interview which dr hall did not enjoy these three sources broadly agree on what happened at the but it is ms who gives the most detailed account and whom i will quote here this passage is long but worth it it was at this that gave an example of her power as a moving medium and highly and interested us by causing the to around the room as was in several recent newspaper articles the true statement is as follows played upon the a three corner grand and under her influence it rose and fell keeping time to her touch in a perfectly regular manner mr suggested that as an added test of the invisible power that moved the his daughter should place her hand on the standing at arm s length from it to show that she was in no wise connected with its movement other than as agent mr lincoln then placed his hand the at the end who placed her left hand upon his to "
     ]
    }
   ],
   "source": [
    "epochs = 1\n",
    "for epoch in range(epochs):\n",
    "    loss = 0\n",
    "    for word, data in train:\n",
    "        index = word_num[word]\n",
    "        nVec = get_nVec(index)\n",
    "        hidden = np.dot(nVec, W1)\n",
    "        out = np.dot(hidden, W2)\n",
    "        chance = softmax(out)\n",
    "\n",
    "        data_num = [word_num[i] for i in data]\n",
    "        loss -= np.sum(np.log(chance[data_num]))\n",
    "        \n",
    "        #AI code\n",
    "        grad_W2_accum = np.zeros_like(W2)  # Initialize accumulated gradient for W2\n",
    "        grad_W1_accum = np.zeros_like(W1)  # Initialize accumulated gradient for W1\n",
    "\n",
    "        for context_word in data:            \n",
    "            # Compute the gradients for the context word\n",
    "            grad_out = chance - nVec\n",
    "            grad_W2_accum += np.outer(hidden, grad_out)  # Accumulate gradient for W2\n",
    "            \n",
    "            grad_hidden = np.dot(W2, grad_out)  # Backpropagate to hidden layer\n",
    "            grad_W1_accum += np.outer(nVec, grad_hidden)  # Accumulate gradient for W1\n",
    "    \n",
    "           # Update W1 and W2 after summing gradients from all context words\n",
    "        lr = 0.01  # Learning rate\n",
    "        W1 -= lr * grad_W1_accum\n",
    "        W2 -= lr * grad_W2_accum\n",
    "        \n",
    "        print(word, end = \" \")\n",
    "\n",
    "    print('epoch', epoch, 'finished')"
   ]
  },
  {
   "cell_type": "code",
   "execution_count": null,
   "id": "7bb134f7-acb5-4cd0-8bd8-b1a20465a05e",
   "metadata": {},
   "outputs": [],
   "source": [
    "import dill\n",
    "\n",
    "session_filename = \"encoderTry1.dill\"\n",
    "dill.dump_session(session_filename)\n",
    "print(f\"Jupyter Notebook session saved to '{session_filename}'\")"
   ]
  },
  {
   "cell_type": "code",
   "execution_count": null,
   "id": "a4911841-c563-4a9e-8ba8-e2f1f916b700",
   "metadata": {},
   "outputs": [],
   "source": [
    "print(loss)"
   ]
  },
  {
   "cell_type": "code",
   "execution_count": null,
   "id": "d4b05dbd-13d5-4116-a3c4-f54c70d6c861",
   "metadata": {},
   "outputs": [],
   "source": [
    "import dill\n",
    "\n",
    "session_filename = \"jupyter_session.dill\"\n",
    "\n",
    "try:\n",
    "    dill.load_session(session_filename)\n",
    "    print(f\"Jupyter Notebook session loaded from '{session_filename}'\")\n",
    "except FileNotFoundError:\n",
    "    print(f\"Error: File '{session_filename}' not found. Starting with a fresh session.\")\n",
    "except Exception as e:\n",
    "    print(f\"Error loading session: {e}\")"
   ]
  },
  {
   "cell_type": "code",
   "execution_count": null,
   "id": "f07897f3-ab6f-4adc-b6df-41a9e7b6c310",
   "metadata": {},
   "outputs": [],
   "source": [
    "print(content[:300])"
   ]
  },
  {
   "cell_type": "code",
   "execution_count": null,
   "id": "20c9a446-4406-4020-a870-1cf38dc84b1e",
   "metadata": {},
   "outputs": [],
   "source": []
  }
 ],
 "metadata": {
  "kernelspec": {
   "display_name": "Python 3 (ipykernel)",
   "language": "python",
   "name": "python3"
  },
  "language_info": {
   "codemirror_mode": {
    "name": "ipython",
    "version": 3
   },
   "file_extension": ".py",
   "mimetype": "text/x-python",
   "name": "python",
   "nbconvert_exporter": "python",
   "pygments_lexer": "ipython3",
   "version": "3.12.7"
  }
 },
 "nbformat": 4,
 "nbformat_minor": 5
}
